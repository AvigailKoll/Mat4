{
 "cells": [
  {
   "cell_type": "code",
   "execution_count": 34,
   "metadata": {},
   "outputs": [],
   "source": [
    "def getfile():\n",
    "    try:\n",
    "        textFile=input('Please enter your citys in a text file (for example dests.txt): ')\n",
    "        text=open(textFile,'r',encoding='utf-8')\n",
    "        file=text.readlines()\n",
    "    except:\n",
    "        print('We are sorry to inform you that we could not find this file')\n",
    "        # return Error\n",
    "        return 'E'\n",
    "    return file"
   ]
  },
  {
   "cell_type": "code",
   "execution_count": 25,
   "metadata": {},
   "outputs": [],
   "source": [
    "def change_sec_to_hours_and_min(sec):\n",
    "    sec=float(sec)\n",
    "    double_hours=sec/3600\n",
    "    hours=int(double_hours)\n",
    "    double_min=(double_hours-hours)*60\n",
    "    minutes=int(double_min)\n",
    "    if hours==0:\n",
    "        time=str(minutes)+' minutes'\n",
    "    elif minutes==0:\n",
    "        time=str(hours)+' hours'\n",
    "    else:\n",
    "        time=str(hours)+' hours '+str(minutes)+' minutes'\n",
    "    return time"
   ]
  },
  {
   "cell_type": "code",
   "execution_count": 26,
   "metadata": {},
   "outputs": [],
   "source": [
    "def CreationOfDictionary(file):\n",
    "\n",
    "    import requests, json, urllib.request, urllib.parse, urllib.error\n",
    "    api_key=input('Please enter your API: ')\n",
    "    print(\" \")\n",
    "    parameters=dict()\n",
    "    information=dict()\n",
    "    dist=dict()\n",
    "\n",
    "\n",
    "    for line in file:\n",
    "        line=line.rstrip()\n",
    "        parameters['origins']='תל אביב'\n",
    "        parameters['destinations']=line\n",
    "        parameters['key']=api_key\n",
    "        try:\n",
    "            url='https://maps.googleapis.com/maps/api/distancematrix/json?'\n",
    "            url_dis=url+urllib.parse.urlencode(parameters)\n",
    "            distancematrix=requests.get(url_dis).json()\n",
    "            url_geo='https://maps.googleapis.com/maps/api/geocode/json?address=%s&key=%s'%(line,api_key)\n",
    "            geocode=requests.get(url_geo).json()\n",
    "            distance=distancematrix['rows'][0]['elements'][0][\"distance\"]['text']\n",
    "            dist[line]=distance\n",
    "            duration=distancematrix['rows'][0]['elements'][0][\"duration\"]['value']\n",
    "            duration=change_sec_to_hours_and_min(duration)\n",
    "            lat=geocode['results'][0]['geometry']['location']['lat']\n",
    "            long=geocode['results'][0]['geometry']['location']['lng']\n",
    "            information[line]=(distance , duration , long , lat)\n",
    "        except:\n",
    "            print('We are sorry to inform you that either the API given is wrong or, one or more citys does not exist. ')\n",
    "            # return Error\n",
    "            return 'E'\n",
    "    print(information) \n",
    "    print(\" \")\n",
    "    return (information, dist)"
   ]
  },
  {
   "cell_type": "code",
   "execution_count": 30,
   "metadata": {},
   "outputs": [],
   "source": [
    "def GetThreeLongest(dist):\n",
    "\n",
    "    # It maybe seems strange all these varialbes, but when the distance is smaller than 1000 km for one city, it is making a\n",
    "    # wrong raking for the citys\n",
    "    first_no_km=second_no_km=third_no_km=float(-1.0)\n",
    "    first_km=second_km=third_km=None\n",
    "    first_city=second_city=third_city= None\n",
    "    for city in dist:\n",
    "        distance=dist[city]\n",
    "        if (float(distance.replace(',','').rstrip(' km'))>first_no_km):\n",
    "            third_no_km=second_no_km\n",
    "            third_km=second_km\n",
    "            third_city=second_city\n",
    "            second_no_km=first_no_km\n",
    "            second_km=first_km\n",
    "            second_city=first_city\n",
    "            first_no_km=float(distance.replace(',','').rstrip(' km'))\n",
    "            first_km=distance\n",
    "            first_city=city\n",
    "        elif (float(distance.replace(',','').rstrip(' km'))>second_no_km):\n",
    "            third_no_km=second_no_km\n",
    "            third_km=second_km\n",
    "            third_city=second_city\n",
    "            second_no_km=float(distance.replace(',','').rstrip(' km'))\n",
    "            second_km=distance\n",
    "            second_city=city\n",
    "        elif (float(distance.replace(',','').rstrip(' km'))>third_no_km):\n",
    "            third_no_km=float(distance.replace(',','').rstrip(' km'))\n",
    "            third_km=distance\n",
    "            third_city=city\n",
    "    print(\"The first distanced city is \" + first_city + \" with the distance of \" + first_km + \", the second distanced city is \" + second_city + \" with the distance of \" + second_km + \", the third distanced city is \" + third_city + \" with the distance of \" + third_km)\n"
   ]
  },
  {
   "cell_type": "code",
   "execution_count": 31,
   "metadata": {},
   "outputs": [],
   "source": [
    "def printTheInformations(information):\n",
    "    for city in information:\n",
    "        print(\"Here are the following informations for the city \" + city +\" :\")\n",
    "        print(\"The distance is: \" + information[city][0])\n",
    "        print(\"The duration is: \" + information[city][1])\n",
    "        print(\"The longitude is: \" + str(information[city][2]))\n",
    "        print(\"The latitude is: \" + str(information[city][3]))\n",
    "        print(\" \")"
   ]
  },
  {
   "cell_type": "code",
   "execution_count": 36,
   "metadata": {},
   "outputs": [
    {
     "name": "stdout",
     "output_type": "stream",
     "text": [
      "Please enter your citys in a text file (for example dests.txt): dests.txt\n",
      "Please enter your API: fdxhg\n",
      " \n",
      "We are sorry to inform you that either the API given is wrong or, one or more citys does not exist. \n"
     ]
    }
   ],
   "source": [
    "try:\n",
    "    file= getfile()\n",
    "    if(file!='E'):\n",
    "        creation= CreationOfDictionary(file)\n",
    "        information= creation[0]\n",
    "        dist= creation[1]\n",
    "        if(information!='E'):\n",
    "            printTheInformations(information)\n",
    "            GetThreeLongest(dist)\n",
    "except:\n",
    "    quit()"
   ]
  }
 ],
 "metadata": {
  "kernelspec": {
   "display_name": "Python 3",
   "language": "python",
   "name": "python3"
  },
  "language_info": {
   "codemirror_mode": {
    "name": "ipython",
    "version": 3
   },
   "file_extension": ".py",
   "mimetype": "text/x-python",
   "name": "python",
   "nbconvert_exporter": "python",
   "pygments_lexer": "ipython3",
   "version": "3.8.5"
  }
 },
 "nbformat": 4,
 "nbformat_minor": 4
}
